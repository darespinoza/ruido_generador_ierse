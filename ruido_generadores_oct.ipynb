{
 "cells": [
  {
   "cell_type": "code",
   "execution_count": 2,
   "metadata": {},
   "outputs": [],
   "source": [
    "import pandas as pd\n",
    "import matplotlib.pyplot as plt"
   ]
  },
  {
   "cell_type": "code",
   "execution_count": null,
   "metadata": {},
   "outputs": [
    {
     "name": "stdout",
     "output_type": "stream",
     "text": [
      "            timestamp id_wasp sensor     value\n",
      "0 2024-09-26 15:04:38   SCP01    BAT    100.00\n",
      "1 2024-09-26 15:04:38   SCP01  NOISE     65.03\n",
      "2 2024-09-26 15:04:38   SCP01     TC     24.54\n",
      "3 2024-09-26 15:04:38   SCP01    HUM     36.70\n",
      "4 2024-09-26 15:04:38   SCP01   PRES  75286.58\n",
      "timestamp    datetime64[ns]\n",
      "id_wasp              object\n",
      "sensor               object\n",
      "value               float64\n",
      "dtype: object\n"
     ]
    }
   ],
   "source": [
    "# Load data\n",
    "df = pd.read_csv('data_ruido/datos_nodos2_202410161517.csv', sep='|')\n",
    "df['timestamp'] = pd.to_datetime(df['timestamp'])\n",
    "\n",
    "# Select interest columns\n",
    "df_noise = df[['timestamp','id_wasp', 'sensor', 'value']]\n",
    "print(df_noise.head())\n",
    "print(df_noise.dtypes)"
   ]
  },
  {
   "cell_type": "code",
   "execution_count": 4,
   "metadata": {},
   "outputs": [
    {
     "name": "stdout",
     "output_type": "stream",
     "text": [
      "             timestamp id_wasp sensor  value\n",
      "1  2024-09-26 15:04:38   SCP01  NOISE  65.03\n",
      "6  2024-09-26 15:15:18   SCP01  NOISE  65.37\n",
      "11 2024-09-26 15:25:44   SCP01  NOISE  62.61\n",
      "16 2024-09-26 15:36:10   SCP01  NOISE  53.10\n",
      "21 2024-09-26 15:46:36   SCP01  NOISE  53.66\n"
     ]
    }
   ],
   "source": [
    "# Select noise data\n",
    "df_noise = df_noise[df_noise['sensor'] == 'NOISE']\n",
    "print(df_noise.head())"
   ]
  },
  {
   "cell_type": "code",
   "execution_count": 7,
   "metadata": {},
   "outputs": [
    {
     "name": "stdout",
     "output_type": "stream",
     "text": [
      "10 datos seleccionados\n"
     ]
    }
   ],
   "source": [
    "# Mostrar la data del día 2024-09-26\n",
    "desired_date = '2024-09-27'\n",
    "df_noise_date = df_noise[df_noise['timestamp'] == desired_date]\n",
    "print(f'{len(desired_date)} datos seleccionados')"
   ]
  },
  {
   "cell_type": "code",
   "execution_count": null,
   "metadata": {},
   "outputs": [],
   "source": []
  }
 ],
 "metadata": {
  "kernelspec": {
   "display_name": "venv",
   "language": "python",
   "name": "python3"
  },
  "language_info": {
   "codemirror_mode": {
    "name": "ipython",
    "version": 3
   },
   "file_extension": ".py",
   "mimetype": "text/x-python",
   "name": "python",
   "nbconvert_exporter": "python",
   "pygments_lexer": "ipython3",
   "version": "3.12.3"
  }
 },
 "nbformat": 4,
 "nbformat_minor": 2
}
